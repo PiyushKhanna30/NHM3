{
 "cells": [
  {
   "cell_type": "code",
   "execution_count": 30,
   "id": "a2491270-ad2f-4167-b8b6-8ed9a241dddf",
   "metadata": {
    "tags": []
   },
   "outputs": [],
   "source": [
    "from bs4 import BeautifulSoup as SOUP\n",
    "import re\n",
    "import requests as HTTP\n",
    "  \n",
    "# Main Function for scraping\n",
    "def recommend(emotion):\n",
    "    if(emotion == \"sad\"):\n",
    "        urlhere = 'http://www.imdb.com/search/title?genres=drama&title_type=feature&sort=moviemeter, asc'\n",
    "  \n",
    "    elif(emotion == \"angry\" or emotion == \"alone\" or emotion == \"lost\" or emotion == \"independent\" or emotion == \"belittled\"):\n",
    "        urlhere = 'http://www.imdb.com/search/title?genres=family&title_type=feature&sort=moviemeter, asc'\n",
    "  \n",
    "    elif(emotion == \"powerless\" or emotion == \"codependent\" or emotion == \"average\"):\n",
    "        urlhere = 'http://www.imdb.com/search/title?genres=thriller&title_type=feature&sort=moviemeter, asc'\n",
    "  \n",
    "    elif(emotion == \"fearful\" or emotion == \"demoralized\" or emotion == \"fearless\" or emotion == \"derailed\" or emotion == \"anxious\"):\n",
    "        urlhere = 'http://www.imdb.com/search/title?genres=sport&title_type=feature&sort=moviemeter, asc'\n",
    "  \n",
    "    elif(emotion == \"esteemed\" or emotion == \"entitled\"):\n",
    "        urlhere = 'http://www.imdb.com/search/title?genres=western&title_type=feature&sort=moviemeter, asc'\n",
    "  \n",
    "    elif(emotion == \"surprise\"):\n",
    "        urlhere = 'http://www.imdb.com/search/title?genres=film_noir&title_type=feature&sort=moviemeter, asc'\n",
    "  \n",
    "    elif(emotion == \"embarrassed\" or emotion == \"bored\" or emotion == \"burdened\" or emotion == \"happy\" or emotion == \"ecstatic\"):\n",
    "        urlhere = 'https://www.imdb.com/search/title/?genres=comedy&title_type=feature&sort=moviemeter, asc'\n",
    "    \n",
    "    elif(emotion == \"loved\" or emotion == \"attached\" or emotion == \"lustful\" or emotion == \"singled out\" or emotion == \"hated\" or emotion == \"attracted\"):\n",
    "        urlhere = 'https://www.imdb.com/search/title/?genres=romance&title_type=feature&sort=moviemeter, asc'\n",
    "    \n",
    "    elif(emotion == \"focused\" or emotion == \"obsessed\"):\n",
    "        urlhere = 'https://www.imdb.com/search/title/?genres=mystery&title_type=feature&sort=moviemeter, asc'\n",
    "    \n",
    "    elif(emotion == \"free\" or emotion == \"adequate\" or emotion == \"safe\"):\n",
    "        urlhere = 'https://www.imdb.com/search/title/?genres=adventure&title_type=feature&sort=moviemeter, asc'\n",
    "    \n",
    "    elif(emotion == \"apathetic\"):\n",
    "        urlhere = 'https://www.imdb.com/search/title/?genres=fantasy&title_type=feature&sort=moviemeter, asc'\n",
    "    \n",
    "    elif(emotion == \"cheated\"):\n",
    "        urlhere = 'https://www.imdb.com/search/title/?genres=comedy,romance&title_type=feature&sort=moviemeter, asc'\n",
    "        \n",
    "    elif(emotion == \"adequate\"):\n",
    "        urlhere = 'https://www.imdb.com/search/title/?genres=comedy,action&title_type=feature&sort=moviemeter, asc'\n",
    "    \n",
    "    else:\n",
    "        urlhere = 'https://www.imdb.com/search/title/?genres=comedy&title_type=feature&sort=moviemeter, asc'\n",
    " \n",
    "    # HTTP request to get the data of\n",
    "    # the whole page\n",
    "    response = HTTP.get(urlhere)\n",
    "    data = response.text\n",
    "  \n",
    "    # Parsing the data using\n",
    "    # BeautifulSoup\n",
    "    soup = SOUP(data, \"html.parser\")\n",
    "\n",
    "    # Extract movie titles from the\n",
    "    # data using regex\n",
    "    title = soup.find_all(\"a\", attrs = {\"href\" : re.compile(r'\\/title\\/tt+\\d*\\/')})\n",
    "    return title\n",
    "  \n",
    "def recommendMovies(emotion):\n",
    "    a = recommend(emotion)\n",
    "    count = 0\n",
    "    if(emotion == \"Disgust\" or emotion == \"Anger\"\n",
    "                           or emotion==\"Surprise\"):\n",
    "        for i in a:\n",
    "\n",
    "            # Splitting each line of the\n",
    "            # IMDb data to scrape movies\n",
    "            tmp = str(i).split('>;')\n",
    "\n",
    "            if(len(tmp) == 3):\n",
    "                print(tmp[1][:-3])\n",
    "\n",
    "            if(count > 13):\n",
    "                break\n",
    "            count += 1\n",
    "    else:\n",
    "        for i in a:\n",
    "            tmp = str(i).split('>')\n",
    "\n",
    "            if(len(tmp) == 3):\n",
    "                print(tmp[1][:-3])\n",
    "\n",
    "            if(count > 11):\n",
    "                break\n",
    "            count+=1"
   ]
  },
  {
   "cell_type": "code",
   "execution_count": 31,
   "id": "7e8e8f16-127c-49a5-8621-3983608b9718",
   "metadata": {
    "tags": []
   },
   "outputs": [
    {
     "name": "stdout",
     "output_type": "stream",
     "text": [
      "Creed III\n",
      "Champions\n",
      "Creed\n",
      "Creed II\n"
     ]
    }
   ],
   "source": [
    "recommendMovies(\"derailed\")"
   ]
  },
  {
   "cell_type": "code",
   "execution_count": null,
   "id": "9a345816-7257-44b7-b918-7574c6418884",
   "metadata": {},
   "outputs": [],
   "source": []
  }
 ],
 "metadata": {
  "kernelspec": {
   "display_name": "Python 3 (ipykernel)",
   "language": "python",
   "name": "python3"
  },
  "language_info": {
   "codemirror_mode": {
    "name": "ipython",
    "version": 3
   },
   "file_extension": ".py",
   "mimetype": "text/x-python",
   "name": "python",
   "nbconvert_exporter": "python",
   "pygments_lexer": "ipython3",
   "version": "3.11.2"
  }
 },
 "nbformat": 4,
 "nbformat_minor": 5
}
