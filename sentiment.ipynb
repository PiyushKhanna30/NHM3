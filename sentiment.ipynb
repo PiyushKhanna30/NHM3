{
 "cells": [
  {
   "cell_type": "code",
   "execution_count": 9,
   "id": "d6f9c00e-26c7-4e48-a3ae-f354b3c687ac",
   "metadata": {
    "tags": []
   },
   "outputs": [],
   "source": [
    "import string\n",
    "import nltk\n",
    "\n",
    "# nltk.download('punkt')\n",
    "# nltk.download('stopwords')\n",
    "# nltk.download('wordnet')\n",
    "# nltk.download('vader_lexicon')\n",
    "\n",
    "from nltk.tokenize import word_tokenize\n",
    "from nltk.corpus import stopwords\n",
    "from nltk.stem import WordNetLemmatizer\n",
    "from nltk.sentiment.vader import SentimentIntensityAnalyzer"
   ]
  },
  {
   "cell_type": "code",
   "execution_count": 10,
   "id": "de2abbd6-7751-45c2-b663-69a51390c808",
   "metadata": {
    "tags": []
   },
   "outputs": [],
   "source": [
    "text = \"\"\"Too late today I died it's me you killed with all your lies my blood you spilled and those that cried for a life unfulfilled in a hole I hide my body is chilled until the day my guide shows me it's what I willed to finally confide my misery stilled away from commitment, I always shied now alone forever in a hill.\"\"\""
   ]
  },
  {
   "cell_type": "code",
   "execution_count": 14,
   "id": "643187c4-ad34-4c23-a0c8-f4933e596543",
   "metadata": {
    "tags": []
   },
   "outputs": [],
   "source": [
    "def textPreprocess(text):\n",
    "    #Lower case text\n",
    "    lower_text=text.lower()\n",
    "    # print(lower_text)\n",
    "\n",
    "    #Remove punctuations\n",
    "    clean_text=lower_text.translate(str.maketrans('', '', string.punctuation))\n",
    "    # print(clean_text)\n",
    "\n",
    "    #Tokenizing word\n",
    "    tokenized_words=word_tokenize(clean_text,\"english\")\n",
    "    # print(tokenized_words)\n",
    "\n",
    "    #Removing stopwords\n",
    "    final_words=[word for word in tokenized_words if word not in stopwords.words(\"english\")]\n",
    "    # print(final_words)\n",
    "\n",
    "    #Lemmatization : From plural to singular form + Base form of verb (eg. better -> good)\n",
    "    lemma_words=[]\n",
    "    for word in final_words:\n",
    "        word=WordNetLemmatizer().lemmatize(word)\n",
    "        lemma_words.append(word)\n",
    "    return lemma_words\n",
    "\n",
    "def getEmotions(lemma_words):\n",
    "    emotion_list={}\n",
    "    with open('emotion.txt','r') as file:\n",
    "        for line in file:\n",
    "            clean_line=line.replace(\"\\n\",\"\").replace(\"'\",\"\").replace(\",\",\"\").strip()\n",
    "            word,emotion=clean_line.split(\":\")\n",
    "\n",
    "            if word in lemma_words:\n",
    "                if emotion not in emotion_list:\n",
    "                    emotion_list[emotion]=1\n",
    "                else:\n",
    "                    emotion_list[emotion]+=1\n",
    "    # print(emotion_list)\n",
    "    total=sum(emotion_list.values())\n",
    "    for key in emotion_list.keys():\n",
    "        emotion_list[key]=round((emotion_list[key]*100)/total,2)\n",
    "    # print(emotion_list)\n",
    "    return emotion_list\n",
    "\n",
    "def getEmotionsList(text):\n",
    "    emotions = getEmotions(textPreprocess(text))\n",
    "    return emotions\n",
    "    \n",
    "def sentimentAnalyze(text):\n",
    "    text=text.lower()\n",
    "    text=text.translate(str.maketrans('', '', string.punctuation))\n",
    "    sentiment=SentimentIntensityAnalyzer().polarity_scores(text)\n",
    "    if sentiment['neg']>sentiment['pos'] :\n",
    "        # print(\"Negative\")\n",
    "        return \"Negative\"\n",
    "    elif sentiment['neg']<sentiment['pos']:\n",
    "        # print(\"Positive\")\n",
    "        return \"Positive\"\n",
    "    else:\n",
    "        # print(\"Neutral\")\n",
    "        return \"Neutral\""
   ]
  },
  {
   "cell_type": "code",
   "execution_count": 15,
   "id": "09e9a7f4-4baf-4cfe-bc5a-23d4b6bcc71e",
   "metadata": {
    "tags": []
   },
   "outputs": [
    {
     "data": {
      "text/plain": [
       "'Negative'"
      ]
     },
     "execution_count": 15,
     "metadata": {},
     "output_type": "execute_result"
    }
   ],
   "source": [
    "sentimentAnalyze(text) "
   ]
  },
  {
   "cell_type": "code",
   "execution_count": 16,
   "id": "0b9fd273-6862-465a-ac79-582b880d2628",
   "metadata": {
    "tags": []
   },
   "outputs": [
    {
     "data": {
      "text/plain": [
       "{' alone': 100.0}"
      ]
     },
     "execution_count": 16,
     "metadata": {},
     "output_type": "execute_result"
    }
   ],
   "source": [
    "getEmotionsList(text)"
   ]
  },
  {
   "cell_type": "code",
   "execution_count": null,
   "id": "5db494f2-93f6-4609-b208-2444642881b7",
   "metadata": {},
   "outputs": [],
   "source": []
  }
 ],
 "metadata": {
  "kernelspec": {
   "display_name": "Python 3 (ipykernel)",
   "language": "python",
   "name": "python3"
  },
  "language_info": {
   "codemirror_mode": {
    "name": "ipython",
    "version": 3
   },
   "file_extension": ".py",
   "mimetype": "text/x-python",
   "name": "python",
   "nbconvert_exporter": "python",
   "pygments_lexer": "ipython3",
   "version": "3.11.2"
  }
 },
 "nbformat": 4,
 "nbformat_minor": 5
}
