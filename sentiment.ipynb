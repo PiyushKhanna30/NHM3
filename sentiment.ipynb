{
 "cells": [
  {
   "cell_type": "code",
   "execution_count": 41,
   "id": "27dd9348-5fae-4a9d-a706-dda0f15f2b07",
   "metadata": {
    "tags": []
   },
   "outputs": [],
   "source": [
    "import string\n",
    "import nltk\n",
    "\n",
    "# nltk.download('punkt')\n",
    "# nltk.download('stopwords')\n",
    "# nltk.download('wordnet')\n",
    "# nltk.download('vader_lexicon')\n",
    "\n",
    "from nltk.tokenize import word_tokenize\n",
    "from nltk.corpus import stopwords\n",
    "from nltk.stem import WordNetLemmatizer\n",
    "from nltk.sentiment.vader import SentimentIntensityAnalyzer"
   ]
  },
  {
   "cell_type": "code",
   "execution_count": 42,
   "id": "33e255ff-60a3-4adc-b57b-9c82eb98a815",
   "metadata": {
    "tags": []
   },
   "outputs": [],
   "source": [
    "text = \"\"\"Too late today I died it's me you killed with all your lies my blood you spilled and those that cried for a life unfulfilled in a hole I hide my body is chilled until the day my guide shows me it's what I willed to finally confide my misery stilled away from commitment, I always shied now alone forever in a hill.\"\"\""
   ]
  },
  {
   "cell_type": "code",
   "execution_count": 45,
   "id": "c787de00-ffb6-4ee4-978c-511254067517",
   "metadata": {
    "tags": []
   },
   "outputs": [],
   "source": [
    "def textPreprocess(text):\n",
    "    #Lower case text\n",
    "    lower_text=text.lower()\n",
    "    print(lower_text)\n",
    "\n",
    "    #Remove punctuations\n",
    "    clean_text=lower_text.translate(str.maketrans('', '', string.punctuation))\n",
    "    print(clean_text)\n",
    "\n",
    "    #Tokenizing word\n",
    "    tokenized_words=word_tokenize(clean_text,\"english\")\n",
    "    print(tokenized_words)\n",
    "\n",
    "    #Removing stopwords\n",
    "    final_words=[word for word in tokenized_words if word not in stopwords.words(\"english\")]\n",
    "    print(final_words)\n",
    "\n",
    "    #Lemmatization : From plural to singular form + Base form of verb (eg. better -> good)\n",
    "    lemma_words=[]\n",
    "    for word in final_words:\n",
    "        word=WordNetLemmatizer().lemmatize(word)\n",
    "        lemma_words.append(word)\n",
    "    return lemma_words\n",
    "\n",
    "def getEmotions(lemma_words):\n",
    "    emotion_list={}\n",
    "    with open('emotion.txt','r') as file:\n",
    "        for line in file:\n",
    "            clean_line=line.replace(\"\\n\",\"\").replace(\"'\",\"\").replace(\",\",\"\").strip()\n",
    "            word,emotion=clean_line.split(\":\")\n",
    "\n",
    "            if word in lemma_words:\n",
    "                if emotion not in emotion_list:\n",
    "                    emotion_list[emotion]=1\n",
    "                else:\n",
    "                    emotion_list[emotion]+=1\n",
    "    print(emotion_list)\n",
    "    total=sum(emotion_list.values())\n",
    "    for key in emotion_list.keys():\n",
    "        emotion_list[key]=round((emotion_list[key]*100)/total,2)\n",
    "    print(emotion_list)\n",
    "    \n",
    "def sentimentAnalyze(text):\n",
    "    text=text.lower()\n",
    "    text=lower_text.translate(str.maketrans('', '', string.punctuation))\n",
    "    sentiment=SentimentIntensityAnalyzer().polarity_scores(text)\n",
    "    if sentiment['neg']>sentiment['pos'] :\n",
    "        print(\"Negative\")\n",
    "        return \"Negative\"\n",
    "    elif sentiment['neg']<sentiment['pos']:\n",
    "        print(\"Positive\")\n",
    "        return \"Positive\"\n",
    "    else:\n",
    "        print(\"Neutral\")\n",
    "        return \"Neutral\""
   ]
  },
  {
   "cell_type": "code",
   "execution_count": 46,
   "id": "c20a8a64-df2e-4ca9-bb5f-f5c06c8cc0b0",
   "metadata": {
    "tags": []
   },
   "outputs": [
    {
     "name": "stdout",
     "output_type": "stream",
     "text": [
      "too late today i died it's me you killed with all your lies my blood you spilled and those that cried for a life unfulfilled in a hole i hide my body is chilled until the day my guide shows me it's what i willed to finally confide my misery stilled away from commitment, i always shied now alone forever in a hill.\n",
      "too late today i died its me you killed with all your lies my blood you spilled and those that cried for a life unfulfilled in a hole i hide my body is chilled until the day my guide shows me its what i willed to finally confide my misery stilled away from commitment i always shied now alone forever in a hill\n",
      "['too', 'late', 'today', 'i', 'died', 'its', 'me', 'you', 'killed', 'with', 'all', 'your', 'lies', 'my', 'blood', 'you', 'spilled', 'and', 'those', 'that', 'cried', 'for', 'a', 'life', 'unfulfilled', 'in', 'a', 'hole', 'i', 'hide', 'my', 'body', 'is', 'chilled', 'until', 'the', 'day', 'my', 'guide', 'shows', 'me', 'its', 'what', 'i', 'willed', 'to', 'finally', 'confide', 'my', 'misery', 'stilled', 'away', 'from', 'commitment', 'i', 'always', 'shied', 'now', 'alone', 'forever', 'in', 'a', 'hill']\n",
      "['late', 'today', 'died', 'killed', 'lies', 'blood', 'spilled', 'cried', 'life', 'unfulfilled', 'hole', 'hide', 'body', 'chilled', 'day', 'guide', 'shows', 'willed', 'finally', 'confide', 'misery', 'stilled', 'away', 'commitment', 'always', 'shied', 'alone', 'forever', 'hill']\n",
      "{' alone': 1}\n",
      "{' alone': 100.0}\n",
      "Negative\n"
     ]
    },
    {
     "data": {
      "text/plain": [
       "'Negative'"
      ]
     },
     "execution_count": 46,
     "metadata": {},
     "output_type": "execute_result"
    }
   ],
   "source": [
    "lemma_words = textPreprocess(text)\n",
    "emotions = getEmotions(lemma_words)\n",
    "sentimentAnalyze(text) "
   ]
  },
  {
   "cell_type": "code",
   "execution_count": 56,
   "id": "30f7e43e-5188-4279-aee3-6e4e710ace95",
   "metadata": {
    "tags": []
   },
   "outputs": [
    {
     "data": {
      "text/plain": [
       "{'adequate',\n",
       " 'alone',\n",
       " 'angry',\n",
       " 'anxious',\n",
       " 'apathetic',\n",
       " 'attached',\n",
       " 'attracted',\n",
       " 'average',\n",
       " 'belittled',\n",
       " 'bored',\n",
       " 'burdened',\n",
       " 'cheated',\n",
       " 'codependent',\n",
       " 'demoralized',\n",
       " 'derailed',\n",
       " 'ecstatic',\n",
       " 'embarrassed',\n",
       " 'entitled',\n",
       " 'esteemed',\n",
       " 'fearful',\n",
       " 'fearless',\n",
       " 'focused',\n",
       " 'free',\n",
       " 'happy',\n",
       " 'hated',\n",
       " 'independent',\n",
       " 'lost',\n",
       " 'loved',\n",
       " 'lustful',\n",
       " 'obsessed',\n",
       " 'powerless',\n",
       " 'sad',\n",
       " 'safe',\n",
       " 'singled out',\n",
       " 'surprise'}"
      ]
     },
     "execution_count": 56,
     "metadata": {},
     "output_type": "execute_result"
    }
   ],
   "source": [
    "dictt = []\n",
    "with open('emotion.txt','r') as file:\n",
    "        for line in file:\n",
    "            clean_line=line.replace(\"\\n\",\"\").replace(\"'\",\"\").replace(\",\",\"\").strip()\n",
    "            word,emotion=clean_line.split(\":\")\n",
    "            dictt.append(emotion.strip())\n",
    "set(dictt)"
   ]
  },
  {
   "cell_type": "code",
   "execution_count": null,
   "id": "58c12c51-b2d4-468b-84ee-a087935eb87a",
   "metadata": {
    "tags": []
   },
   "outputs": [],
   "source": []
  },
  {
   "cell_type": "code",
   "execution_count": null,
   "id": "d7e7925f-60f7-4e1a-a871-9037708f6bf9",
   "metadata": {
    "tags": []
   },
   "outputs": [],
   "source": []
  },
  {
   "cell_type": "code",
   "execution_count": null,
   "id": "38fa5594-fa5a-4f75-876f-fca81f8e29c0",
   "metadata": {},
   "outputs": [],
   "source": []
  }
 ],
 "metadata": {
  "kernelspec": {
   "display_name": "Python 3 (ipykernel)",
   "language": "python",
   "name": "python3"
  },
  "language_info": {
   "codemirror_mode": {
    "name": "ipython",
    "version": 3
   },
   "file_extension": ".py",
   "mimetype": "text/x-python",
   "name": "python",
   "nbconvert_exporter": "python",
   "pygments_lexer": "ipython3",
   "version": "3.11.2"
  }
 },
 "nbformat": 4,
 "nbformat_minor": 5
}
