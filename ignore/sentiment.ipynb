{
 "cells": [
  {
   "cell_type": "code",
   "execution_count": 5,
   "id": "d6f9c00e-26c7-4e48-a3ae-f354b3c687ac",
   "metadata": {
    "tags": []
   },
   "outputs": [],
   "source": [
    "import string\n",
    "import nltk\n",
    "\n",
    "# nltk.download('punkt')\n",
    "# nltk.download('stopwords')\n",
    "# nltk.download('wordnet')\n",
    "# nltk.download('vader_lexicon')\n",
    "\n",
    "from nltk.tokenize import word_tokenize\n",
    "from nltk.corpus import stopwords\n",
    "from nltk.stem import WordNetLemmatizer\n",
    "from nltk.sentiment.vader import SentimentIntensityAnalyzer"
   ]
  },
  {
   "cell_type": "code",
   "execution_count": 6,
   "id": "de2abbd6-7751-45c2-b663-69a51390c808",
   "metadata": {
    "tags": []
   },
   "outputs": [],
   "source": [
    "text = \"\"\"No one is devoid of emotion. Whether sad, happy, melancholic or any other, everyone feels something. Dealing with sad emotions is a terrible affair for anyone. It creates a sombre mood, which many do not want to associate with. People handle emotions differently, and you should find a way of expressing yourself rather than keeping to yourself. It might be heartbreak or a terrible event in your life that's bringing a lot of negative energy. Sad messages can allow you to share your sadness or emotions with other people. With the advent of social media, there is no better way to express your heartfelt sorrowful quotes than using meaningful words. Read more: https://yen.com.gh/115797-sad-messages-to-express-your-feelings.html\"\"\""
   ]
  },
  {
   "cell_type": "code",
   "execution_count": 7,
   "id": "643187c4-ad34-4c23-a0c8-f4933e596543",
   "metadata": {
    "tags": []
   },
   "outputs": [],
   "source": [
    "def textPreprocess(text):\n",
    "    #Lower case text\n",
    "    lower_text=text.lower()\n",
    "    # print(lower_text)\n",
    "\n",
    "    #Remove punctuations\n",
    "    clean_text=lower_text.translate(str.maketrans('', '', string.punctuation))\n",
    "    # print(clean_text)\n",
    "\n",
    "    #Tokenizing word\n",
    "    tokenized_words=word_tokenize(clean_text,\"english\")\n",
    "    # print(tokenized_words)\n",
    "\n",
    "    #Removing stopwords\n",
    "    final_words=[word for word in tokenized_words if word not in stopwords.words(\"english\")]\n",
    "    # print(final_words)\n",
    "\n",
    "    #Lemmatization : From plural to singular form + Base form of verb (eg. better -> good)\n",
    "    lemma_words=[]\n",
    "    for word in final_words:\n",
    "        word=WordNetLemmatizer().lemmatize(word)\n",
    "        lemma_words.append(word)\n",
    "    return lemma_words\n",
    "\n",
    "def getEmotions(lemma_words):\n",
    "    emotion_list={}\n",
    "    with open('emotion.txt','r') as file:\n",
    "        for line in file:\n",
    "            clean_line=line.replace(\"\\n\",\"\").replace(\"'\",\"\").replace(\",\",\"\").strip()\n",
    "            word,emotion=clean_line.split(\":\")\n",
    "\n",
    "            if word in lemma_words:\n",
    "                if emotion not in emotion_list:\n",
    "                    emotion_list[emotion]=1\n",
    "                else:\n",
    "                    emotion_list[emotion]+=1\n",
    "    # print(emotion_list)\n",
    "    total=sum(emotion_list.values())\n",
    "    for key in emotion_list.keys():\n",
    "        emotion_list[key]=round((emotion_list[key]*100)/total,2)\n",
    "    # print(emotion_list)\n",
    "    return emotion_list\n",
    "\n",
    "def getEmotionsList(text):\n",
    "    emotions = getEmotions(textPreprocess(text))\n",
    "    return emotions\n",
    "    \n",
    "def sentimentAnalyze(text):\n",
    "    text=text.lower()\n",
    "    text=text.translate(str.maketrans('', '', string.punctuation))\n",
    "    sentiment=SentimentIntensityAnalyzer().polarity_scores(text)\n",
    "    if sentiment['neg']>sentiment['pos'] :\n",
    "        # print(\"Negative\")\n",
    "        return \"Negative\"\n",
    "    elif sentiment['neg']<sentiment['pos']:\n",
    "        # print(\"Positive\")\n",
    "        return \"Positive\"\n",
    "    else:\n",
    "        # print(\"Neutral\")\n",
    "        return \"Neutral\""
   ]
  },
  {
   "cell_type": "code",
   "execution_count": 8,
   "id": "09e9a7f4-4baf-4cfe-bc5a-23d4b6bcc71e",
   "metadata": {
    "tags": []
   },
   "outputs": [
    {
     "data": {
      "text/plain": [
       "'Negative'"
      ]
     },
     "execution_count": 8,
     "metadata": {},
     "output_type": "execute_result"
    }
   ],
   "source": [
    "sentimentAnalyze(text) "
   ]
  },
  {
   "cell_type": "code",
   "execution_count": 9,
   "id": "0b9fd273-6862-465a-ac79-582b880d2628",
   "metadata": {
    "tags": []
   },
   "outputs": [
    {
     "ename": "FileNotFoundError",
     "evalue": "[Errno 2] No such file or directory: 'emotion.txt'",
     "output_type": "error",
     "traceback": [
      "\u001b[1;31m---------------------------------------------------------------------------\u001b[0m",
      "\u001b[1;31mFileNotFoundError\u001b[0m                         Traceback (most recent call last)",
      "Cell \u001b[1;32mIn[9], line 1\u001b[0m\n\u001b[1;32m----> 1\u001b[0m \u001b[43mgetEmotionsList\u001b[49m\u001b[43m(\u001b[49m\u001b[43mtext\u001b[49m\u001b[43m)\u001b[49m\n",
      "Cell \u001b[1;32mIn[7], line 45\u001b[0m, in \u001b[0;36mgetEmotionsList\u001b[1;34m(text)\u001b[0m\n\u001b[0;32m     44\u001b[0m \u001b[38;5;28;01mdef\u001b[39;00m \u001b[38;5;21mgetEmotionsList\u001b[39m(text):\n\u001b[1;32m---> 45\u001b[0m     emotions \u001b[38;5;241m=\u001b[39m \u001b[43mgetEmotions\u001b[49m\u001b[43m(\u001b[49m\u001b[43mtextPreprocess\u001b[49m\u001b[43m(\u001b[49m\u001b[43mtext\u001b[49m\u001b[43m)\u001b[49m\u001b[43m)\u001b[49m\n\u001b[0;32m     46\u001b[0m     \u001b[38;5;28;01mreturn\u001b[39;00m emotions\n",
      "Cell \u001b[1;32mIn[7], line 27\u001b[0m, in \u001b[0;36mgetEmotions\u001b[1;34m(lemma_words)\u001b[0m\n\u001b[0;32m     25\u001b[0m \u001b[38;5;28;01mdef\u001b[39;00m \u001b[38;5;21mgetEmotions\u001b[39m(lemma_words):\n\u001b[0;32m     26\u001b[0m     emotion_list\u001b[38;5;241m=\u001b[39m{}\n\u001b[1;32m---> 27\u001b[0m     \u001b[38;5;28;01mwith\u001b[39;00m \u001b[38;5;28;43mopen\u001b[39;49m\u001b[43m(\u001b[49m\u001b[38;5;124;43m'\u001b[39;49m\u001b[38;5;124;43memotion.txt\u001b[39;49m\u001b[38;5;124;43m'\u001b[39;49m\u001b[43m,\u001b[49m\u001b[38;5;124;43m'\u001b[39;49m\u001b[38;5;124;43mr\u001b[39;49m\u001b[38;5;124;43m'\u001b[39;49m\u001b[43m)\u001b[49m \u001b[38;5;28;01mas\u001b[39;00m file:\n\u001b[0;32m     28\u001b[0m         \u001b[38;5;28;01mfor\u001b[39;00m line \u001b[38;5;129;01min\u001b[39;00m file:\n\u001b[0;32m     29\u001b[0m             clean_line\u001b[38;5;241m=\u001b[39mline\u001b[38;5;241m.\u001b[39mreplace(\u001b[38;5;124m\"\u001b[39m\u001b[38;5;130;01m\\n\u001b[39;00m\u001b[38;5;124m\"\u001b[39m,\u001b[38;5;124m\"\u001b[39m\u001b[38;5;124m\"\u001b[39m)\u001b[38;5;241m.\u001b[39mreplace(\u001b[38;5;124m\"\u001b[39m\u001b[38;5;124m'\u001b[39m\u001b[38;5;124m\"\u001b[39m,\u001b[38;5;124m\"\u001b[39m\u001b[38;5;124m\"\u001b[39m)\u001b[38;5;241m.\u001b[39mreplace(\u001b[38;5;124m\"\u001b[39m\u001b[38;5;124m,\u001b[39m\u001b[38;5;124m\"\u001b[39m,\u001b[38;5;124m\"\u001b[39m\u001b[38;5;124m\"\u001b[39m)\u001b[38;5;241m.\u001b[39mstrip()\n",
      "File \u001b[1;32m~\\AppData\\Local\\Programs\\Python\\Python311\\Lib\\site-packages\\IPython\\core\\interactiveshell.py:282\u001b[0m, in \u001b[0;36m_modified_open\u001b[1;34m(file, *args, **kwargs)\u001b[0m\n\u001b[0;32m    275\u001b[0m \u001b[38;5;28;01mif\u001b[39;00m file \u001b[38;5;129;01min\u001b[39;00m {\u001b[38;5;241m0\u001b[39m, \u001b[38;5;241m1\u001b[39m, \u001b[38;5;241m2\u001b[39m}:\n\u001b[0;32m    276\u001b[0m     \u001b[38;5;28;01mraise\u001b[39;00m \u001b[38;5;167;01mValueError\u001b[39;00m(\n\u001b[0;32m    277\u001b[0m         \u001b[38;5;124mf\u001b[39m\u001b[38;5;124m\"\u001b[39m\u001b[38;5;124mIPython won\u001b[39m\u001b[38;5;124m'\u001b[39m\u001b[38;5;124mt let you open fd=\u001b[39m\u001b[38;5;132;01m{\u001b[39;00mfile\u001b[38;5;132;01m}\u001b[39;00m\u001b[38;5;124m by default \u001b[39m\u001b[38;5;124m\"\u001b[39m\n\u001b[0;32m    278\u001b[0m         \u001b[38;5;124m\"\u001b[39m\u001b[38;5;124mas it is likely to crash IPython. If you know what you are doing, \u001b[39m\u001b[38;5;124m\"\u001b[39m\n\u001b[0;32m    279\u001b[0m         \u001b[38;5;124m\"\u001b[39m\u001b[38;5;124myou can use builtins\u001b[39m\u001b[38;5;124m'\u001b[39m\u001b[38;5;124m open.\u001b[39m\u001b[38;5;124m\"\u001b[39m\n\u001b[0;32m    280\u001b[0m     )\n\u001b[1;32m--> 282\u001b[0m \u001b[38;5;28;01mreturn\u001b[39;00m \u001b[43mio_open\u001b[49m\u001b[43m(\u001b[49m\u001b[43mfile\u001b[49m\u001b[43m,\u001b[49m\u001b[43m \u001b[49m\u001b[38;5;241;43m*\u001b[39;49m\u001b[43margs\u001b[49m\u001b[43m,\u001b[49m\u001b[43m \u001b[49m\u001b[38;5;241;43m*\u001b[39;49m\u001b[38;5;241;43m*\u001b[39;49m\u001b[43mkwargs\u001b[49m\u001b[43m)\u001b[49m\n",
      "\u001b[1;31mFileNotFoundError\u001b[0m: [Errno 2] No such file or directory: 'emotion.txt'"
     ]
    }
   ],
   "source": [
    "getEmotionsList(text)"
   ]
  },
  {
   "cell_type": "code",
   "execution_count": null,
   "id": "5db494f2-93f6-4609-b208-2444642881b7",
   "metadata": {},
   "outputs": [],
   "source": []
  }
 ],
 "metadata": {
  "kernelspec": {
   "display_name": "Python 3 (ipykernel)",
   "language": "python",
   "name": "python3"
  },
  "language_info": {
   "codemirror_mode": {
    "name": "ipython",
    "version": 3
   },
   "file_extension": ".py",
   "mimetype": "text/x-python",
   "name": "python",
   "nbconvert_exporter": "python",
   "pygments_lexer": "ipython3",
   "version": "3.11.2"
  }
 },
 "nbformat": 4,
 "nbformat_minor": 5
}
